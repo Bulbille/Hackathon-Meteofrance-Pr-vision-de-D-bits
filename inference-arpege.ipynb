{
 "cells": [
  {
   "cell_type": "markdown",
   "metadata": {},
   "source": [
    "# Inférence du modèle de régression linéaire sur une modélisation arpege"
   ]
  },
  {
   "cell_type": "code",
   "execution_count": null,
   "metadata": {},
   "outputs": [],
   "source": [
    "import xarray as xr\n",
    "import numpy as np\n",
    "import matplotlib.pyplot as plt\n",
    "import matplotlib\n",
    "from mpl_toolkits.basemap import Basemap\n",
    "import matplotlib.cm as cm\n",
    "import pickle\n",
    "import pandas as pd\n",
    "\n",
    "data = xr.open_dataset('data/arpege__025__SP1__025H048H__2024-04-08T00_00_00Z.grib2', engine='cfgrib') #contient des données H+27 à H+48"
   ]
  },
  {
   "cell_type": "code",
   "execution_count": null,
   "metadata": {},
   "outputs": [],
   "source": [
    "#Visualisation \n",
    "x = data['longitude'][:] # 0-359, step = 1\n",
    "y = data['latitude'][:] # -90~90, step =1\n",
    "tmp = data['tp'][:][7] # shape(181,360) \n",
    "\n",
    "fig = plt.figure(dpi=150)\n",
    "m = Basemap(projection='mill',lat_ts=10,llcrnrlon=x.min(), urcrnrlon=x.max(),llcrnrlat=y.min(),urcrnrlat=y.max(), resolution='c')\n",
    "\n",
    "xx, yy = m(*np.meshgrid(x,y))\n",
    "m.pcolormesh(xx,yy,tmp,cmap=plt.cm.jet,norm=matplotlib.colors.LogNorm(vmin=1,vmax=tmp.values.max(),))\n",
    "m.colorbar(location='right')\n",
    "\n",
    "m.drawcoastlines()\n",
    "m.drawparallels(np.arange(-90.,120.,30.), labels=[1,0,0,0], fontsize=10)\n",
    "m.drawmeridians(np.arange(0.,360.,60.), labels=[0,0,0,1], fontsize=10)\n",
    "plt.title(\"{}, GFS, Temperature (C) \".format(data['time'].values))\n",
    "plt.show()"
   ]
  },
  {
   "cell_type": "code",
   "execution_count": null,
   "metadata": {},
   "outputs": [],
   "source": [
    "# Récupération des prédictions aux abords des stations\n",
    "stations_meteo = pd.read_csv('liste_stations_affluents_bordeaux_meteo.csv')\n",
    "stations_hydro = pd.read_csv('liste_stations_affluents_bordeaux_hydro.csv')\n",
    "\n",
    "donnees     = pd.read_csv('data/donnees-avril-2024.csv')\n",
    "donnees = donnees[donnees['Date'] == '2024-04-08'].set_index('Date').fillna(0)\n",
    "\n",
    "ds = data.get('tp')\n",
    "ds = ds.to_dataframe()\n",
    "\n",
    "arpege_j2 = ds.loc['2 days 00:00:00']['tp'].reset_index()\n",
    "def round_to025(i) :\n",
    "    return round(i*4)/4\n",
    "\n",
    "for s in stations_meteo.itertuples() : \n",
    "    latitude,longitude = round_to025(s[3]),round_to025(s[4])\n",
    "    donnees[s[1]] = arpege_j2[(arpege_j2['latitude'] == latitude) & (arpege_j2['longitude'] ==longitude) ]['tp'].values[0]"
   ]
  },
  {
   "cell_type": "code",
   "execution_count": null,
   "metadata": {},
   "outputs": [],
   "source": [
    "# Inférence avec modèle de machine learning\n",
    "with open('./data/regression-lineaire.pkl','rb') as file :\n",
    "    model = pickle.load(file)\n",
    "\n",
    "columns = ['O200001001', 'V504661001', 'O180405201', 'O153291001', 'O353401001',\n",
    "       'O375401001', 'O546431001', 'O819000201', 'Q066402002', 'O605401001',\n",
    "       'O633251001', 'K216311001', 'O701581001', 'P171291001', 'O839431001',\n",
    "       'P257401001', 'Q224291001', '48198001', '65258001_x', '65258001_y',\n",
    "       '31451001', '65258001', '11221004', '65125001', '12216001']\n",
    "model.predict(donnees[columns].values)\n",
    "#Ne marche pas car certaines données sont en trop ou n'existent pas. Problème avec les API Hub'Eau et MeteoFrance, qui donnent des nan"
   ]
  }
 ],
 "metadata": {
  "kernelspec": {
   "display_name": "Python 3",
   "language": "python",
   "name": "python3"
  },
  "language_info": {
   "codemirror_mode": {
    "name": "ipython",
    "version": 3
   },
   "file_extension": ".py",
   "mimetype": "text/x-python",
   "name": "python",
   "nbconvert_exporter": "python",
   "pygments_lexer": "ipython3",
   "version": "3.11.5"
  }
 },
 "nbformat": 4,
 "nbformat_minor": 2
}
