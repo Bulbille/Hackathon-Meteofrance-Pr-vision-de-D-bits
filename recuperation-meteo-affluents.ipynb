{
 "cells": [
  {
   "cell_type": "markdown",
   "metadata": {},
   "source": [
    "#Récupération des stations hydrologiques et météorologiques importantes\n",
    "\n",
    "Dans ce fichier, nous récupérons la liste des stations hydrologiques et météorologiques les plus proches des sources les plus en amont des affluents de niveau 1 et 2 de la Garonne\n",
    "\n",
    "- watercourse_data.csv : coordonnées initiales et finales des cours de France, avec une hiérarchie par rapport aux 6 fleuves principaux de France\n",
    "- stations.csv         : liste des stations hydrologies, comme obtenu sur Hub'Eau sur toute la France\n",
    "- station-meteo.json   : liste des stations météo, scrappé depuis l'API MeteoFrance sur toute la France\n"
   ]
  },
  {
   "cell_type": "code",
   "execution_count": null,
   "metadata": {},
   "outputs": [],
   "source": [
    "import json\n",
    "import pandas as pd\n",
    "import geopy.distance\n",
    "\n",
    "df_stations = pd.read_csv('./data/stations-hydro.csv')\n",
    "df_watercourse = pd.read_csv('./data/watercourse_data.csv')\n",
    "\n",
    "with open('./data/station-meteo.json','r') as file :\n",
    "    df_meteo = pd.DataFrame(json.load(file))\n",
    "df_meteo = df_meteo[['id_post', 'post_name', 'post_lati','post_long']]\n",
    "\n",
    "df_sources = df_watercourse[df_watercourse['river_join'] == 'La Garonne'][(df_watercourse['classe'] ==2) | (df_watercourse['classe'] == 1) ][['name','first_point']]\n",
    "df_stations = df_stations[['code_station','libelle_site','latitude_station','longitude_station']]"
   ]
  },
  {
   "cell_type": "code",
   "execution_count": null,
   "metadata": {},
   "outputs": [],
   "source": [
    "# Liste des stations hydrologiques les plus proches des sources des fleuves\n",
    "NAME = 1\n",
    "SOURCE_COORD = 2\n",
    "stations_affluents = []\n",
    "for source in df_sources.itertuples() :\n",
    "    longitude,latitude = tuple(source[2][1:-1].split(','))\n",
    "    coords_station = [float(latitude),float(longitude)]\n",
    "    nearest = None\n",
    "    nearestKm = 30000\n",
    "    for s in df_stations.itertuples() :\n",
    "        coords = [s[3],s[4]]\n",
    "        km = ((coords_station[0]-coords[0])**2 + (coords_station[1]-coords[1])**2)**0.5\n",
    "        if km <  nearestKm :\n",
    "            nearestKm = km\n",
    "            nearest = s\n",
    "    stations_affluents.append(nearest[1:])\n",
    "stations_affluents.append(['O972001001','La Garonne à Bordeaux','',''])"
   ]
  },
  {
   "cell_type": "code",
   "execution_count": null,
   "metadata": {},
   "outputs": [],
   "source": [
    "# Liste des stations météo les plus proches des stations hydro identifiées au-dessus\n",
    "stations_meteo = []\n",
    "for station in stations_affluents : \n",
    "    coords_station = [station[2],station[3]]\n",
    "    if coords_station == ['',''] :\n",
    "        continue\n",
    "    nearest = None\n",
    "    nearestKm = 30000\n",
    "    for s in df_meteo.itertuples() :\n",
    "        coords = [s[3],s[4]]\n",
    "        km = ((coords_station[0]-coords[0])**2 + (coords_station[1]-coords[1])**2)**0.5\n",
    "        if km <  nearestKm :\n",
    "            nearestKm = km\n",
    "            nearest = s\n",
    "    stations_meteo.append(nearest[1:])"
   ]
  },
  {
   "cell_type": "code",
   "execution_count": null,
   "metadata": {},
   "outputs": [],
   "source": [
    "df_final = pd.DataFrame(stations_meteo,columns=['code_station','libelle_site','latitude_station','longitude_station'])\n",
    "df_final.to_csv('liste_stations_affluents_bordeaux_meteo.csv')\n",
    "df_final = pd.DataFrame(stations_affluents,columns=['code_station','libelle_site','latitude_station','longitude_station'])\n",
    "df_final.to_csv('liste_stations_affluents_bordeaux_hydro.csv')"
   ]
  }
 ],
 "metadata": {
  "kernelspec": {
   "display_name": "base",
   "language": "python",
   "name": "python3"
  },
  "language_info": {
   "codemirror_mode": {
    "name": "ipython",
    "version": 3
   },
   "file_extension": ".py",
   "mimetype": "text/x-python",
   "name": "python",
   "nbconvert_exporter": "python",
   "pygments_lexer": "ipython3",
   "version": "3.11.5"
  }
 },
 "nbformat": 4,
 "nbformat_minor": 2
}
