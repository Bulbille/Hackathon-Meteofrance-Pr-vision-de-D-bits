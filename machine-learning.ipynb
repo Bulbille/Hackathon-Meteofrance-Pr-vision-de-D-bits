{
 "cells": [
  {
   "cell_type": "markdown",
   "metadata": {},
   "source": [
    "# Création d'un modèle de prédiction de débits\n"
   ]
  },
  {
   "cell_type": "code",
   "execution_count": null,
   "metadata": {},
   "outputs": [],
   "source": [
    "import pandas as pd \n",
    "import matplotlib.pyplot as plt\n",
    "from sklearn.linear_model import LinearRegression\n",
    "import numpy as np\n",
    "\n",
    "df = pd.read_csv('data/donnees-hydro-meteo.csv')\n",
    "df = df.dropna(thresh=len(df) - 10, axis=1) #on garde les stations avec moins de 10 jours vides\n",
    "df = df.fillna(method='ffill')"
   ]
  },
  {
   "cell_type": "code",
   "execution_count": null,
   "metadata": {},
   "outputs": [],
   "source": [
    "# Sélection des features\n",
    "target_col = 'O919001001' #la Garonne à la Réole\n",
    "exclure = [\"O200001001\",'O180405201']\n",
    "df = df[df.columns.difference(exclure)]"
   ]
  },
  {
   "cell_type": "code",
   "execution_count": null,
   "metadata": {},
   "outputs": [],
   "source": [
    "# Modèle 1, régression linéaire toute bête, sans intégrer la météo\n",
    "X = df.loc[:,df.columns != target_col]\n",
    "X = X.drop(columns=['Date'])\n",
    "X = X[list(X.filter(regex='^[A-Za-z].*'))]\n",
    "Y = df[target_col] #Tonneins\n",
    "\n",
    "for jour in [1,2,3] : \n",
    "    model = LinearRegression().fit(X[jour:],Y[:-jour])\n",
    "    pred = model.predict(X[jour:])\n",
    "    plt.plot(df['Date'][:-jour],pred,'+',label='J+'+str(jour)+' , R2 = '+str(model.score(X[jour:],Y[:-jour]))[:4])\n",
    "\n",
    "plt.plot(df['Date'],Y, label='Débit de la Garonne à la Réole')\n",
    "plt.legend()\n",
    "plt.xlabel('Date')\n",
    "plt.xticks(np.arange(0,len(df),30),rotation=40)\n",
    "plt.ylabel('Débit ')\n",
    "plt.title('Prédiction de débits sur la Réole sans les données météorologiques')\n",
    "plt.show()"
   ]
  },
  {
   "cell_type": "code",
   "execution_count": null,
   "metadata": {},
   "outputs": [],
   "source": [
    "# Modèle 1, régression linéaire toute bête, en intégrant la météo\n",
    "\n",
    "X = df.loc[:,df.columns != target_col]\n",
    "X = X.drop(columns=['Date'])\n",
    "Y = df[target_col] #Tonneins\n",
    "\n",
    "for jour in [1,2,3] : \n",
    "    model = LinearRegression().fit(X[jour:],Y[:-jour])\n",
    "    pred = model.predict(X[jour:])\n",
    "    plt.plot(df['Date'][:-jour],pred,'+',label='J+'+str(jour)+' , R2 = '+str(model.score(X[jour:],Y[:-jour]))[:4])\n",
    "\n",
    "plt.plot(df['Date'],Y, label='Débit de la Garonne à la Réole')\n",
    "plt.legend()\n",
    "plt.xlabel('Date')\n",
    "plt.xticks(np.arange(0,len(df),30),rotation=40)\n",
    "plt.ylabel('Débit')\n",
    "plt.title('Prédiction de débits sur la Réole avec les données météorologiques')\n",
    "plt.show()"
   ]
  },
  {
   "cell_type": "code",
   "execution_count": null,
   "metadata": {},
   "outputs": [],
   "source": [
    "plt.bar(X.columns,abs(model.coef_))\n",
    "plt.xticks(rotation=45)"
   ]
  },
  {
   "cell_type": "code",
   "execution_count": null,
   "metadata": {},
   "outputs": [],
   "source": [
    "# Modèle 2, petit réseau de neurones dense avec la météo\n",
    "from tensorflow.keras.models import Sequential\n",
    "from tensorflow.keras.layers import Dense\n",
    "\n",
    "X = df.loc[:,df.columns != target_col]\n",
    "X = X.drop(columns=['Date'])\n",
    "Y = df[target_col] #Tonneins\n",
    "\n",
    "model = Sequential()\n",
    "model.add(Dense(30))\n",
    "model.add(Dense(50))\n",
    "model.add(Dense(50))\n",
    "model.add(Dense(1))\n",
    "model.compile(loss='mean_squared_error',optimizer='adam',metrics=['r2_score'])\n",
    "\n",
    "for jour in [1,2,3] : \n",
    "    model.fit(X[jour:],Y[:-jour],epochs=200,verbose=0)\n",
    "    pred = model.predict(X[jour:])\n",
    "    plt.plot(df['Date'][:-jour],pred,'+',label='J+'+str(jour)+' , R2 = '+str(model.evaluate(X[jour:],Y[:-jour])[1])[:4])\n",
    "\n",
    "plt.plot(df['Date'],Y, label='Débit de la Garonne à la Réole')\n",
    "plt.legend()\n",
    "plt.xlabel('Date')\n",
    "plt.xticks(np.arange(0,len(df),30),rotation=40)\n",
    "plt.ylabel('Débit ')\n",
    "plt.title('Prédiction de débits sur la Réole avec les données météorologiques avec un petit réseau de neurones')\n",
    "plt.show()"
   ]
  },
  {
   "cell_type": "code",
   "execution_count": null,
   "metadata": {},
   "outputs": [],
   "source": [
    "# Modèle 2, petit réseau de neurones dense sans la météo\n",
    "from tensorflow.keras.models import Sequential\n",
    "from tensorflow.keras.layers import Dense\n",
    "\n",
    "X = df.loc[:,df.columns != target_col]\n",
    "X = X.drop(columns=['Date'])\n",
    "X = X[list(X.filter(regex='^[A-Za-z].*'))]\n",
    "Y = df[target_col] #Tonneins\n",
    "\n",
    "\n",
    "model = Sequential()\n",
    "model.add(Dense(30))\n",
    "model.add(Dense(50))\n",
    "model.add(Dense(50))\n",
    "model.add(Dense(1))\n",
    "model.compile(loss='mean_squared_error',optimizer='adam',metrics=['r2_score'])\n",
    "\n",
    "for jour in [1,2,3] : \n",
    "    model.fit(X[jour:],Y[:-jour],epochs=200,verbose=0)\n",
    "    pred = model.predict(X[jour:])\n",
    "    plt.plot(df['Date'][:-jour],pred,'+',label='J+'+str(jour)+' , R2 = '+str(model.evaluate(X[jour:],Y[:-jour])[1])[:4])\n",
    "\n",
    "plt.plot(df['Date'],Y, label='Débit de la Garonne à la Réole')\n",
    "plt.legend()\n",
    "plt.xlabel('Date')\n",
    "plt.xticks(np.arange(0,len(df),30),rotation=40)\n",
    "plt.ylabel('Débit ')\n",
    "plt.title('Prédiction de débits sur la Réole sans les données météorologiques avec un petit réseau de neurones')\n",
    "plt.show()"
   ]
  }
 ],
 "metadata": {
  "kernelspec": {
   "display_name": "base",
   "language": "python",
   "name": "python3"
  },
  "language_info": {
   "codemirror_mode": {
    "name": "ipython",
    "version": 3
   },
   "file_extension": ".py",
   "mimetype": "text/x-python",
   "name": "python",
   "nbconvert_exporter": "python",
   "pygments_lexer": "ipython3",
   "version": "3.11.5"
  }
 },
 "nbformat": 4,
 "nbformat_minor": 2
}
